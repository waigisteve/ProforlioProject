{
  "nbformat": 4,
  "nbformat_minor": 0,
  "metadata": {
    "colab": {
      "provenance": [],
      "authorship_tag": "ABX9TyMg8Ei5g8bMDLXy6fWBlJhX",
      "include_colab_link": true
    },
    "kernelspec": {
      "name": "python3",
      "display_name": "Python 3"
    },
    "language_info": {
      "name": "python"
    }
  },
  "cells": [
    {
      "cell_type": "markdown",
      "metadata": {
        "id": "view-in-github",
        "colab_type": "text"
      },
      "source": [
        "<a href=\"https://colab.research.google.com/github/waigisteve/ProforlioProject/blob/main/python.ipynb\" target=\"_parent\"><img src=\"https://colab.research.google.com/assets/colab-badge.svg\" alt=\"Open In Colab\"/></a>"
      ]
    },
    {
      "cell_type": "code",
      "source": [
        "print(\"its that time again\")"
      ],
      "metadata": {
        "colab": {
          "base_uri": "https://localhost:8080/"
        },
        "id": "QspLkQsquURo",
        "outputId": "cd608f10-aeca-43ce-d451-7f23cc8b1801"
      },
      "execution_count": null,
      "outputs": [
        {
          "output_type": "stream",
          "name": "stdout",
          "text": [
            "its that time again\n"
          ]
        }
      ]
    },
    {
      "cell_type": "markdown",
      "source": [],
      "metadata": {
        "id": "mhW10otguI_F"
      }
    },
    {
      "cell_type": "code",
      "source": [
        "x=14"
      ],
      "metadata": {
        "id": "lxz9YapBvThF"
      },
      "execution_count": null,
      "outputs": []
    },
    {
      "cell_type": "markdown",
      "source": [],
      "metadata": {
        "id": "CA8iFk0suDeh"
      }
    },
    {
      "cell_type": "code",
      "source": [
        "print(x)"
      ],
      "metadata": {
        "colab": {
          "base_uri": "https://localhost:8080/"
        },
        "id": "OCO3-i2mveEO",
        "outputId": "64339aa1-d43d-4374-a337-59e3bae32c86"
      },
      "execution_count": null,
      "outputs": [
        {
          "output_type": "stream",
          "name": "stdout",
          "text": [
            "14\n"
          ]
        }
      ]
    },
    {
      "cell_type": "code",
      "source": [
        "y=34\n",
        "sum =x+y\n",
        "print(sum)"
      ],
      "metadata": {
        "colab": {
          "base_uri": "https://localhost:8080/"
        },
        "id": "bQL25I_xv5lF",
        "outputId": "01da5ebb-2b9e-4bcb-e431-010bbf730167"
      },
      "execution_count": null,
      "outputs": [
        {
          "output_type": "stream",
          "name": "stdout",
          "text": [
            "48\n"
          ]
        }
      ]
    },
    {
      "cell_type": "code",
      "source": [
        "# prompt: A script that prints the average of three subjects  scores Maths, Science , Geography  add an extra 5 marks for each subject and generate the answer\n",
        "\n",
        "# Scores for each subject\n",
        "maths = 70\n",
        "science = 80\n",
        "geography = 90\n",
        "\n",
        "# Adding bonus marks\n",
        "maths += 5\n",
        "science += 5\n",
        "geography += 5\n",
        "\n",
        "# Calculate the total score\n",
        "total_score = maths + science + geography\n",
        "\n",
        "# Calculate the average score\n",
        "average_score = total_score / 3\n",
        "\n",
        "# Print the average score\n",
        "print(\"The average score is:\", average_score)\n"
      ],
      "metadata": {
        "colab": {
          "base_uri": "https://localhost:8080/"
        },
        "id": "tXklWEZ4wYtl",
        "outputId": "84a02704-4de2-4b87-eeff-25756eb9f906"
      },
      "execution_count": null,
      "outputs": [
        {
          "output_type": "stream",
          "name": "stdout",
          "text": [
            "its that time again\n",
            "14\n",
            "48\n",
            "The average score is: 82.33333333333333\n"
          ]
        }
      ]
    },
    {
      "cell_type": "code",
      "source": [
        "maths = \"good marks\"\n",
        "science =\"excellent\"\n",
        "total =maths + science\n",
        "print(total)"
      ],
      "metadata": {
        "colab": {
          "base_uri": "https://localhost:8080/"
        },
        "id": "cYNYOB021k2q",
        "outputId": "13d6bee7-2e26-4b4c-d606-02520bfac142"
      },
      "execution_count": null,
      "outputs": [
        {
          "output_type": "stream",
          "name": "stdout",
          "text": [
            "good marksexcellent\n"
          ]
        }
      ]
    },
    {
      "cell_type": "code",
      "source": [
        "science =100\n",
        "maths =\"120\"\n",
        "total =int(maths) + science\n",
        "print(total)"
      ],
      "metadata": {
        "colab": {
          "base_uri": "https://localhost:8080/"
        },
        "id": "YIizEu6k5jxy",
        "outputId": "5a502cbe-387a-465b-8d52-bbdc8d4544ca"
      },
      "execution_count": null,
      "outputs": [
        {
          "output_type": "stream",
          "name": "stdout",
          "text": [
            "220\n"
          ]
        }
      ]
    },
    {
      "cell_type": "code",
      "source": [
        "maths = int(input(\"enter maths marks\"))\n",
        "science = int(input(\"enter science marks\"))\n",
        "total =maths + science\n",
        "total_marks = maths + science\n",
        "print(total/200*100)\n",
        "\n",
        "if total >89:\n",
        "  print(\"A\")\n",
        "elif total >79:\n",
        "  print(\"B\")\n",
        "elif total >69:\n",
        "  print(\"C\")\n",
        "elif total >59:\n",
        "  print(\"D\")\n",
        "else:\n",
        "  print(\"F\")\n"
      ],
      "metadata": {
        "colab": {
          "base_uri": "https://localhost:8080/"
        },
        "id": "o9hhTD2k8GX-",
        "outputId": "183c3249-626e-4697-a02f-c0b25f982eaf"
      },
      "execution_count": null,
      "outputs": [
        {
          "output_type": "stream",
          "name": "stdout",
          "text": [
            "enter maths marks43\n",
            "enter science marks23\n",
            "33.0\n",
            "D\n"
          ]
        }
      ]
    },
    {
      "cell_type": "markdown",
      "source": [
        "from os import PRIO_PROCESS\n",
        "Movie Ticket Pricing\n",
        "Scenario: a cinema has different  ticket prices based on age.\n",
        "Task: Write a program that asks for the customers age adn prints the ticket PRIO_PROCESS\n",
        "\n",
        "child (0-12): 200\n",
        "Teen (13-17): 400\n",
        "Adult (18-64): 600\n",
        "Senior (65 and above): 800"
      ],
      "metadata": {
        "id": "mN8lG5uiCGtx"
      }
    },
    {
      "cell_type": "markdown",
      "source": [],
      "metadata": {
        "id": "LYsy5jLHCJ3t"
      }
    },
    {
      "cell_type": "code",
      "source": [
        "age = int(input(\"Enter your age: \"))\n",
        "\n",
        "if age <= 12:\n",
        "    price = 200\n",
        "    category = \"Child\"\n",
        "elif age <= 17:\n",
        "    price = 400\n",
        "    category = \"Teen\"\n",
        "elif age <= 64:\n",
        "    price = 600\n",
        "    category = \"Adult\"\n",
        "else:\n",
        "    price = 800\n",
        "    category = \"Senior\"\n",
        "\n",
        "print(f\"Ticket price for {category}: {price}\")"
      ],
      "metadata": {
        "colab": {
          "base_uri": "https://localhost:8080/"
        },
        "id": "WA8I9FfpCLFa",
        "outputId": "06a5aa21-c562-4900-d1ca-32c338a32c04"
      },
      "execution_count": null,
      "outputs": [
        {
          "output_type": "stream",
          "name": "stdout",
          "text": [
            "Enter your age: 8\n",
            "Ticket price for Child: 200\n"
          ]
        }
      ]
    },
    {
      "cell_type": "markdown",
      "source": [
        "a country has a progressive tax system based on annual income. create a program that calculates tax based on the following brackets up to 350000 no tax 351000 to 500000 5%\n",
        "501,000 to 1000000 10% above 1000000 20% tax"
      ],
      "metadata": {
        "id": "YO72BmxxGQ2c"
      }
    },
    {
      "cell_type": "code",
      "source": [
        "def calculate_tax(income):\n",
        "    if income <= 350000:\n",
        "        tax = 0\n",
        "        tax_percent = 0\n",
        "    elif income <= 500000:\n",
        "        tax = (income - 350000) * 0.05\n",
        "        tax_percent = 5\n",
        "    elif income <= 1000000:\n",
        "        tax = (150000 * 0.05) + (income - 500000) * 0.10\n",
        "        tax_percent = (tax / income) * 100  # Calculate effective tax percentage\n",
        "    else:\n",
        "        tax = (150000 * 0.05) + (500000 * 0.10) + (income - 1000000) * 0.20\n",
        "        tax_percent = (tax / income) * 100  # Calculate effective tax percentage\n",
        "\n",
        "    return tax, tax_percent\n",
        "\n",
        "income = float(input(\"Enter your annual income: \"))\n",
        "tax_amount, tax_percentage = calculate_tax(income)\n",
        "\n",
        "print(f\"Tax payable on income of ${income:,.2f} is:\")\n",
        "print(f\"- Amount: ${tax_amount:,.2f}\")\n",
        "print(f\"- Effective Tax Percentage: {tax_percentage:.2f}%\")"
      ],
      "metadata": {
        "colab": {
          "base_uri": "https://localhost:8080/"
        },
        "id": "HVAGYH_XGZvW",
        "outputId": "c95ec28f-5b88-477e-898f-67e14cff4d0c"
      },
      "execution_count": null,
      "outputs": [
        {
          "output_type": "stream",
          "name": "stdout",
          "text": [
            "Enter your annual income: 1300000\n",
            "Tax payable on income of $1,300,000.00 is:\n",
            "- Amount: $117,500.00\n",
            "- Effective Tax Percentage: 9.04%\n"
          ]
        }
      ]
    },
    {
      "cell_type": "code",
      "source": [],
      "metadata": {
        "id": "YXaFwkTzKpLs"
      },
      "execution_count": null,
      "outputs": []
    },
    {
      "cell_type": "code",
      "source": [],
      "metadata": {
        "colab": {
          "base_uri": "https://localhost:8080/"
        },
        "id": "546PymiJKsi8",
        "outputId": "87fae08c-469a-4b6d-a3ec-b669a43a7a6f"
      },
      "execution_count": null,
      "outputs": [
        {
          "output_type": "stream",
          "name": "stdout",
          "text": [
            "Enter your exam score: 45\n",
            "Admission unlikely\n"
          ]
        }
      ]
    },
    {
      "cell_type": "markdown",
      "source": [
        "Advanced Loan Approval System\n",
        "\n",
        "Scenario: A bank has a complex loan approval process based on multiple factors.\n",
        "Task: Create a program that determines loan approval and interest rate based on:\n",
        "\n",
        "Credit Score (Excellent: 800+, Good: 700-799, Fair: 600-699, Poor: below 600)\n",
        "Annual Income (High: 1,000,000+, Medium: 500,000-999,999, Low: below 500,000)\n",
        "Debt-to-Income Ratio (Low: below 20%, Medium: 20-36%, High: above 36%)\n",
        "Loan Amount (Small: below 1,000,000, Medium: 1,000,000-5,000,000, Large: above 5,000,000)\n",
        "\n",
        "Rules:\n",
        "\n",
        "Approve loan if Credit Score is Good or Excellent, and Debt-to-Income Ratio is Low or Medium\n",
        "Reject loan if Credit Score is Poor, or if Debt-to-Income Ratio is High\n",
        "For Fair Credit Score, approve only if Income is High and Debt-to-Income Ratio is Low\n",
        "Interest rates:\n",
        "\n",
        "8% for Excellent Credit, Low Debt-to-Income, and High Income\n",
        "10% for Good Credit or (Fair Credit with High Income and Low Debt-to-Income)\n",
        "12% for all other approved loans"
      ],
      "metadata": {
        "id": "iPId-LNyLNK-"
      }
    },
    {
      "cell_type": "code",
      "source": [
        "def assess_loan(credit_score, income, dti):\n",
        "    approved = False\n",
        "    interest_rate = None\n",
        "\n",
        "    if credit_score >= 800:\n",
        "        if income >= 1000000 and dti < 0.20:\n",
        "            approved = True\n",
        "            interest_rate = 0.03  # Excellent credit, high income, low DTI\n",
        "        elif income >= 500000 and dti < 0.36:\n",
        "            approved = True\n",
        "            interest_rate = 0.04  # Excellent credit, medium income, reasonable DTI\n",
        "        elif dti < 0.20:\n",
        "            approved = True\n",
        "            interest_rate = 0.05  # Excellent credit, but lower income or higher DTI\n",
        "    elif credit_score >= 700:\n",
        "        if income >= 500000 and dti < 0.20:\n",
        "            approved = True\n",
        "            interest_rate = 0.06  # Good credit, medium income, low DTI\n",
        "        elif dti < 0.30:\n",
        "            approved = True\n",
        "            interest_rate = 0.07  # Good credit, but lower income or higher DTI\n",
        "    elif credit_score >= 600:\n",
        "        if income >= 750000 and dti < 0.20:\n",
        "            approved = True\n",
        "            interest_rate = 0.08  # Fair credit, high income, low DTI\n",
        "    # No approval for poor credit (below 600)\n",
        "\n",
        "    return approved, interest_rate\n",
        "\n",
        "# Get user input\n",
        "credit_score = int(input(\"Enter your credit score: \"))\n",
        "income = float(input(\"Enter your annual income: \"))\n",
        "dti = float(input(\"Enter your debt-to-income ratio (e.g., 0.3 for 30%): \"))\n",
        "\n",
        "# Assess loan application\n",
        "approved, interest_rate = assess_loan(credit_score, income, dti)\n",
        "\n",
        "if approved:\n",
        "    print(\"Congratulations! Your loan is approved.\")\n",
        "    print(f\"Your interest rate is: {interest_rate * 100:.2f}%\")\n",
        "else:\n",
        "    print(\"Unfortunately, your loan application is not approved at this time.\")"
      ],
      "metadata": {
        "colab": {
          "base_uri": "https://localhost:8080/"
        },
        "id": "36yrE5wZLTnZ",
        "outputId": "78b13cf3-436b-423b-ab11-12502ae784f9"
      },
      "execution_count": null,
      "outputs": [
        {
          "output_type": "stream",
          "name": "stdout",
          "text": [
            "Enter your credit score: 500\n",
            "Enter your annual income: 1200000\n",
            "Enter your debt-to-income ratio (e.g., 0.3 for 30%): 40\n",
            "Unfortunately, your loan application is not approved at this time.\n"
          ]
        }
      ]
    },
    {
      "cell_type": "code",
      "source": [
        "import pyodbc\n",
        "\n",
        "# Database connection details\n",
        "server = 'STEPHENWAIGI'\n",
        "database = 'Roster'\n",
        "\n",
        "try:\n",
        "    # Connect to the database using Windows Authentication\n",
        "    conn = pyodbc.connect('Driver={SQL Server};'\n",
        "                          'Server=' + server + ';'\n",
        "                          'Database=' + database + ';'\n",
        "                          'Trusted_Connection=yes;')\n",
        "\n",
        "    cursor = conn.cursor()\n",
        "\n",
        "    # Execute the query to fetch data from the Revenue table\n",
        "    cursor.execute(\"SELECT * FROM Revenue\")\n",
        "    rows = cursor.fetchall()\n",
        "\n",
        "    # Display the data\n",
        "    for row in rows:\n",
        "        print(row)\n",
        "\n",
        "except pyodbc.Error as ex:\n",
        "    print(\"Error connecting to database or fetching data:\", ex)\n",
        "\n",
        "finally:\n",
        "    if conn:\n",
        "        conn.close()\n",
        "        print(\"Database connection closed.\")"
      ],
      "metadata": {
        "colab": {
          "base_uri": "https://localhost:8080/",
          "height": 248
        },
        "id": "mFmJoGQ2P7gP",
        "outputId": "8017b96f-1921-4d74-b9eb-872b233c781f"
      },
      "execution_count": null,
      "outputs": [
        {
          "output_type": "stream",
          "name": "stdout",
          "text": [
            "Error connecting to database or fetching data: ('01000', \"[01000] [unixODBC][Driver Manager]Can't open lib 'SQL Server' : file not found (0) (SQLDriverConnect)\")\n"
          ]
        },
        {
          "output_type": "error",
          "ename": "NameError",
          "evalue": "name 'conn' is not defined",
          "traceback": [
            "\u001b[0;31m---------------------------------------------------------------------------\u001b[0m",
            "\u001b[0;31mNameError\u001b[0m                                 Traceback (most recent call last)",
            "\u001b[0;32m<ipython-input-38-31133ea8f978>\u001b[0m in \u001b[0;36m<cell line: 7>\u001b[0;34m()\u001b[0m\n\u001b[1;32m     26\u001b[0m \u001b[0;34m\u001b[0m\u001b[0m\n\u001b[1;32m     27\u001b[0m \u001b[0;32mfinally\u001b[0m\u001b[0;34m:\u001b[0m\u001b[0;34m\u001b[0m\u001b[0;34m\u001b[0m\u001b[0m\n\u001b[0;32m---> 28\u001b[0;31m     \u001b[0;32mif\u001b[0m \u001b[0mconn\u001b[0m\u001b[0;34m:\u001b[0m\u001b[0;34m\u001b[0m\u001b[0;34m\u001b[0m\u001b[0m\n\u001b[0m\u001b[1;32m     29\u001b[0m         \u001b[0mconn\u001b[0m\u001b[0;34m.\u001b[0m\u001b[0mclose\u001b[0m\u001b[0;34m(\u001b[0m\u001b[0;34m)\u001b[0m\u001b[0;34m\u001b[0m\u001b[0;34m\u001b[0m\u001b[0m\n\u001b[1;32m     30\u001b[0m         \u001b[0mprint\u001b[0m\u001b[0;34m(\u001b[0m\u001b[0;34m\"Database connection closed.\"\u001b[0m\u001b[0;34m)\u001b[0m\u001b[0;34m\u001b[0m\u001b[0;34m\u001b[0m\u001b[0m\n",
            "\u001b[0;31mNameError\u001b[0m: name 'conn' is not defined"
          ]
        }
      ]
    },
    {
      "cell_type": "code",
      "source": [
        "!pip install pyodbc"
      ],
      "metadata": {
        "colab": {
          "base_uri": "https://localhost:8080/"
        },
        "id": "Q0EthSO1QMDR",
        "outputId": "ec08d060-042c-4a26-e9f0-c7136a4a2ae3"
      },
      "execution_count": null,
      "outputs": [
        {
          "output_type": "stream",
          "name": "stdout",
          "text": [
            "Collecting pyodbc\n",
            "  Downloading pyodbc-5.1.0-cp310-cp310-manylinux_2_17_x86_64.manylinux2014_x86_64.whl (334 kB)\n",
            "\u001b[2K     \u001b[90m━━━━━━━━━━━━━━━━━━━━━━━━━━━━━━━━━━━━━━━━\u001b[0m \u001b[32m334.7/334.7 kB\u001b[0m \u001b[31m5.9 MB/s\u001b[0m eta \u001b[36m0:00:00\u001b[0m\n",
            "\u001b[?25hInstalling collected packages: pyodbc\n",
            "Successfully installed pyodbc-5.1.0\n"
          ]
        }
      ]
    },
    {
      "cell_type": "code",
      "source": [
        "!sudo apt-get install unixodbc unixodbc-dev"
      ],
      "metadata": {
        "colab": {
          "base_uri": "https://localhost:8080/"
        },
        "id": "AGIrh_A5QyuE",
        "outputId": "0c6c94ef-acb1-4c0c-f18c-ed934e1903fd"
      },
      "execution_count": null,
      "outputs": [
        {
          "output_type": "stream",
          "name": "stdout",
          "text": [
            "Reading package lists... Done\n",
            "Building dependency tree... Done\n",
            "Reading state information... Done\n",
            "unixodbc-dev is already the newest version (2.3.9-5ubuntu0.1).\n",
            "unixodbc-dev set to manually installed.\n",
            "The following NEW packages will be installed:\n",
            "  unixodbc\n",
            "0 upgraded, 1 newly installed, 0 to remove and 45 not upgraded.\n",
            "Need to get 26.7 kB of archives.\n",
            "After this operation, 111 kB of additional disk space will be used.\n",
            "Get:1 http://archive.ubuntu.com/ubuntu jammy-updates/universe amd64 unixodbc amd64 2.3.9-5ubuntu0.1 [26.7 kB]\n",
            "Fetched 26.7 kB in 3s (9,726 B/s)\n",
            "debconf: unable to initialize frontend: Dialog\n",
            "debconf: (No usable dialog-like program is installed, so the dialog based frontend cannot be used. at /usr/share/perl5/Debconf/FrontEnd/Dialog.pm line 78, <> line 1.)\n",
            "debconf: falling back to frontend: Readline\n",
            "debconf: unable to initialize frontend: Readline\n",
            "debconf: (This frontend requires a controlling tty.)\n",
            "debconf: falling back to frontend: Teletype\n",
            "dpkg-preconfigure: unable to re-open stdin: \n",
            "Selecting previously unselected package unixodbc.\n",
            "(Reading database ... 123586 files and directories currently installed.)\n",
            "Preparing to unpack .../unixodbc_2.3.9-5ubuntu0.1_amd64.deb ...\n",
            "Unpacking unixodbc (2.3.9-5ubuntu0.1) ...\n",
            "Setting up unixodbc (2.3.9-5ubuntu0.1) ...\n",
            "Processing triggers for man-db (2.10.2-1) ...\n"
          ]
        }
      ]
    },
    {
      "cell_type": "code",
      "source": [
        "odbcinst -j"
      ],
      "metadata": {
        "colab": {
          "base_uri": "https://localhost:8080/",
          "height": 141
        },
        "id": "NjOPPI7WRZbR",
        "outputId": "30c3a0c7-f0f3-447d-bb09-f67bef2c7691"
      },
      "execution_count": null,
      "outputs": [
        {
          "output_type": "error",
          "ename": "NameError",
          "evalue": "name 'odbcinst' is not defined",
          "traceback": [
            "\u001b[0;31m---------------------------------------------------------------------------\u001b[0m",
            "\u001b[0;31mNameError\u001b[0m                                 Traceback (most recent call last)",
            "\u001b[0;32m<ipython-input-39-dab819a1a072>\u001b[0m in \u001b[0;36m<cell line: 1>\u001b[0;34m()\u001b[0m\n\u001b[0;32m----> 1\u001b[0;31m \u001b[0modbcinst\u001b[0m \u001b[0;34m-\u001b[0m\u001b[0mj\u001b[0m\u001b[0;34m\u001b[0m\u001b[0;34m\u001b[0m\u001b[0m\n\u001b[0m",
            "\u001b[0;31mNameError\u001b[0m: name 'odbcinst' is not defined"
          ]
        }
      ]
    },
    {
      "source": [
        "sudo apt-get install unixodbc unixodbc-dev"
      ],
      "cell_type": "code",
      "metadata": {
        "colab": {
          "base_uri": "https://localhost:8080/",
          "height": 106
        },
        "id": "oUB_ADstReht",
        "outputId": "4c9c19df-e092-4b9f-db92-3720c017b66b"
      },
      "execution_count": null,
      "outputs": [
        {
          "output_type": "error",
          "ename": "SyntaxError",
          "evalue": "invalid syntax (<ipython-input-40-3f4ec9a7584e>, line 1)",
          "traceback": [
            "\u001b[0;36m  File \u001b[0;32m\"<ipython-input-40-3f4ec9a7584e>\"\u001b[0;36m, line \u001b[0;32m1\u001b[0m\n\u001b[0;31m    sudo apt-get install unixodbc unixodbc-dev\u001b[0m\n\u001b[0m         ^\u001b[0m\n\u001b[0;31mSyntaxError\u001b[0m\u001b[0;31m:\u001b[0m invalid syntax\n"
          ]
        }
      ]
    },
    {
      "source": [
        "!sudo apt-get install unixodbc unixodbc-dev"
      ],
      "cell_type": "code",
      "metadata": {
        "colab": {
          "base_uri": "https://localhost:8080/"
        },
        "id": "ZIVK3YxQRzJj",
        "outputId": "a33c8c6f-5343-4eae-f25d-8c501d21ba63"
      },
      "execution_count": null,
      "outputs": [
        {
          "output_type": "stream",
          "name": "stdout",
          "text": [
            "Reading package lists... Done\n",
            "Building dependency tree... Done\n",
            "Reading state information... Done\n",
            "unixodbc-dev is already the newest version (2.3.9-5ubuntu0.1).\n",
            "unixodbc is already the newest version (2.3.9-5ubuntu0.1).\n",
            "0 upgraded, 0 newly installed, 0 to remove and 45 not upgraded.\n"
          ]
        }
      ]
    },
    {
      "cell_type": "code",
      "source": [],
      "metadata": {
        "id": "FtCFbZbkTKUx"
      },
      "execution_count": null,
      "outputs": []
    },
    {
      "cell_type": "markdown",
      "source": [
        "Comprehensive Health Insurance Premium Calculator\n",
        "\n",
        "Scenario: A health insurance company determines premiums based on multiple health factors.\n",
        "Task: Create a program that calculates the insurance premium based on:\n",
        "\n",
        "Age (Child: 0-18, Young Adult: 19-35, Adult: 36-55, Senior: 56+)\n",
        "BMI Category (Underweight, Normal, Overweight, Obese)\n",
        "Smoking Status (Non-smoker, Occasional, Regular)\n",
        "Pre-existing Conditions (None, Minor, Major)\n",
        "Family History (No risks, Minor risks, Major risks)\n",
        "\n",
        "Rules:\n",
        "\n",
        "Base premium: 5000 for Child, 10000 for Young Adult, 15000 for Adult, 20000 for Senior\n",
        "Increase premium by:\n",
        "\n",
        "20% for Overweight, 50% for Obese\n",
        "30% for Occasional Smoker, 50% for Regular Smoker\n",
        "20% for Minor pre-existing conditions, 50% for Major\n",
        "10% for Minor family history risks, 25% for Major\n",
        "\n",
        "\n",
        "Decrease premium by 10% for Underweight\n",
        "Maximum increase: 150% of base premium\n",
        "Add flat 1000 for each year above 30"
      ],
      "metadata": {
        "id": "S6Tlwv-7UFpR"
      }
    },
    {
      "cell_type": "code",
      "source": [
        "def calculate_final_fare(base_fare, peak_season=False, holiday_season=False, weekend=False, booking_time='regular', passenger_type='adult'):\n",
        "    # Start with the base fare\n",
        "    fare = base_fare\n",
        "\n",
        "    # Apply seasonal adjustments\n",
        "    if peak_season:\n",
        "        fare *= 1.20\n",
        "    elif holiday_season:\n",
        "        fare *= 1.10\n",
        "\n",
        "    # Apply weekend adjustment\n",
        "    if weekend:\n",
        "        fare *= 1.10\n",
        "\n",
        "    # Apply booking time adjustments\n",
        "    if booking_time == 'late':\n",
        "        fare *= 1.15\n",
        "    elif booking_time == 'early':\n",
        "        fare *= 0.90\n",
        "\n",
        "    # Apply passenger type adjustments\n",
        "    if passenger_type == 'child':\n",
        "        fare *= 0.75\n",
        "    elif passenger_type == 'senior':\n",
        "        fare *= 0.90\n",
        "\n",
        "    # Ensure maximum combined discount and increase limits\n",
        "    if fare < base_fare * 0.70:\n",
        "        fare = base_fare * 0.70\n",
        "    if fare > base_fare * 1.50:\n",
        "        fare = base_fare * 1.50\n",
        "\n",
        "    return fare\n",
        "\n",
        "# Prompt the user for inputs\n",
        "base_fare = float(input(\"Enter the base fare: \"))\n",
        "peak_season = input(\"Is it peak season? (yes/no): \").lower() == 'yes'\n",
        "holiday_season = input(\"Is it holiday season? (yes/no): \").lower() == 'yes'\n",
        "weekend = input(\"Is the travel on a weekend? (yes/no): \").lower() == 'yes'\n",
        "booking_time = input(\"Enter the booking time (early, regular, late): \").lower()\n",
        "passenger_type = input(\"Enter the passenger type (adult, child, senior): \").lower()\n",
        "\n",
        "# Calculate the final fare\n",
        "final_fare = calculate_final_fare(base_fare, peak_season, holiday_season, weekend, booking_time, passenger_type)\n",
        "\n",
        "print(f\"The final fare is: ${final_fare:.2f}\")\n"
      ],
      "metadata": {
        "colab": {
          "base_uri": "https://localhost:8080/"
        },
        "id": "PKT1MIhkVMSL",
        "outputId": "8f2a1f86-60ce-476d-f0a4-69f13df02537"
      },
      "execution_count": null,
      "outputs": [
        {
          "output_type": "stream",
          "name": "stdout",
          "text": [
            "Enter the base fare: 5300\n",
            "Is it peak season? (yes/no): yes\n",
            "Is it holiday season? (yes/no): yes\n",
            "Is the travel on a weekend? (yes/no): no\n",
            "Enter the booking time (early, regular, late): late\n",
            "Enter the passenger type (adult, child, senior): senior\n",
            "The final fare is: $6582.60\n"
          ]
        }
      ]
    },
    {
      "cell_type": "markdown",
      "source": [
        "Comprehensive Health Insurance Premium Calculator\n",
        "\n",
        "Scenario: A health insurance company determines premiums based on multiple health factors.\n",
        "Task: Create a program that calculates the insurance premium based on:\n",
        "\n",
        "Age (Child: 0-18, Young Adult: 19-35, Adult: 36-55, Senior: 56+)\n",
        "BMI Category (Underweight, Normal, Overweight, Obese)\n",
        "Smoking Status (Non-smoker, Occasional, Regular)\n",
        "Pre-existing Conditions (None, Minor, Major)\n",
        "Family History (No risks, Minor risks, Major risks)\n",
        "\n",
        "Rules:\n",
        "\n",
        "Base premium: 5000 for Child, 10000 for Young Adult, 15000 for Adult, 20000 for Senior\n",
        "Increase premium by:\n",
        "\n",
        "20% for Overweight, 50% for Obese\n",
        "30% for Occasional Smoker, 50% for Regular Smoker\n",
        "20% for Minor pre-existing conditions, 50% for Major\n",
        "10% for Minor family history risks, 25% for Major\n",
        "\n",
        "\n",
        "Decrease premium by 10% for Underweight\n",
        "Maximum increase: 150% of base premium\n",
        "Add flat 1000 for each year above 30\n"
      ],
      "metadata": {
        "id": "d1iGDCs8ZXG0"
      }
    },
    {
      "cell_type": "code",
      "source": [
        "def calculate_premium(age, bmi_category, smoking_status, pre_existing_conditions, family_history):\n",
        "    # Determine base premium based on age\n",
        "    if age <= 18:\n",
        "        base_premium = 5000\n",
        "    elif 19 <= age <= 35:\n",
        "        base_premium = 10000\n",
        "    elif 36 <= age <= 55:\n",
        "        base_premium = 15000\n",
        "    else:\n",
        "        base_premium = 20000\n",
        "\n",
        "    premium = base_premium\n",
        "\n",
        "    # Adjust premium based on BMI category\n",
        "    if bmi_category == 'underweight':\n",
        "        premium *= 0.90\n",
        "    elif bmi_category == 'overweight':\n",
        "        premium *= 1.20\n",
        "    elif bmi_category == 'obese':\n",
        "        premium *= 1.50\n",
        "\n",
        "    # Adjust premium based on smoking status\n",
        "    if smoking_status == 'occasional':\n",
        "        premium *= 1.30\n",
        "    elif smoking_status == 'regular':\n",
        "        premium *= 1.50\n",
        "\n",
        "    # Adjust premium based on pre-existing conditions\n",
        "    if pre_existing_conditions == 'minor':\n",
        "        premium *= 1.20\n",
        "    elif pre_existing_conditions == 'major':\n",
        "        premium *= 1.50\n",
        "\n",
        "    # Adjust premium based on family history\n",
        "    if family_history == 'minor':\n",
        "        premium *= 1.10\n",
        "    elif family_history == 'major':\n",
        "        premium *= 1.25\n",
        "\n",
        "    # Cap the maximum increase\n",
        "    if premium > base_premium * 2.50:\n",
        "        premium = base_premium * 2.50\n",
        "\n",
        "    # Add flat 1000 for each year above 30\n",
        "    if age > 30:\n",
        "        premium += (age - 30) * 1000\n",
        "\n",
        "    return premium\n",
        "\n",
        "# Prompt the user for inputs\n",
        "age = int(input(\"Enter your age: \"))\n",
        "bmi_category = input(\"Enter your BMI category (underweight, normal, overweight, obese): \").lower()\n",
        "smoking_status = input(\"Enter your smoking status (non-smoker, occasional, regular): \").lower()\n",
        "pre_existing_conditions = input(\"Enter your pre-existing conditions status (none, minor, major): \").lower()\n",
        "family_history = input(\"Enter your family history risk (no risks, minor risks, major risks): \").lower()\n",
        "\n",
        "# Calculate the premium\n",
        "final_premium = calculate_premium(age, bmi_category, smoking_status, pre_existing_conditions, family_history)\n",
        "\n",
        "print(f\"The calculated insurance premium is: ${final_premium:.2f}\")\n"
      ],
      "metadata": {
        "colab": {
          "base_uri": "https://localhost:8080/"
        },
        "id": "mkcqDBK7ZhKl",
        "outputId": "65b59713-00c0-4922-cc45-9da6297fa049"
      },
      "execution_count": 1,
      "outputs": [
        {
          "output_type": "stream",
          "name": "stdout",
          "text": [
            "Enter your age: 56\n",
            "Enter your BMI category (underweight, normal, overweight, obese): overweight\n",
            "Enter your smoking status (non-smoker, occasional, regular): occasional\n",
            "Enter your pre-existing conditions status (none, minor, major): minor\n",
            "Enter your family history risk (no risks, minor risks, major risks): minor risks\n",
            "The calculated insurance premium is: $63440.00\n"
          ]
        }
      ]
    },
    {
      "cell_type": "markdown",
      "source": [
        "Advanced Academic Performance Evaluator\n",
        "\n",
        "Scenario: A school uses a comprehensive system to evaluate student performance and provide tailored advice.\n",
        "Task: Create a program that assesses a student's performance and provides recommendations based on:\n",
        "\n",
        "Grades in core subjects (Math, Science, Language, Social Studies)\n",
        "Extracurricular activities participation (None, Low, Medium, High)\n",
        "Attendance rate (Excellent: >95%, Good: 90-95%, Fair: 80-89%, Poor: <80%)\n",
        "Behavioral record (Excellent, Good, Needs Improvement, Poor)\n",
        "Learning style (Visual, Auditory, Kinesthetic)\n",
        "\n",
        "Rules:\n",
        "\n",
        "Calculate GPA (4.0 scale) from core subject grades\n",
        "Determine overall academic standing:\n",
        "\n",
        "Outstanding: GPA > 3.5, Good attendance, Good or Excellent behavior\n",
        "Good: GPA 3.0-3.5, At least Fair attendance, At least Needs Improvement behavior\n",
        "Average: GPA 2.0-2.9, At least Fair attendance\n",
        "Needs Improvement: GPA < 2.0 or Poor attendance"
      ],
      "metadata": {
        "id": "k5EFwtqNj00V"
      }
    },
    {
      "cell_type": "code",
      "source": [
        "def calculate_gpa(grades):\n",
        "    return sum(grades) / len(grades)\n",
        "\n",
        "def determine_academic_standing(gpa, attendance_rate, behavioral_record):\n",
        "    if gpa > 3.5 and attendance_rate in ['excellent', 'good'] and behavioral_record in ['excellent', 'good']:\n",
        "        return 'Outstanding'\n",
        "    elif 3.0 <= gpa <= 3.5 and attendance_rate in ['excellent', 'good', 'fair'] and behavioral_record in ['excellent', 'good', 'needs improvement']:\n",
        "        return 'Good'\n",
        "    elif 2.0 <= gpa <= 2.9 and attendance_rate in ['excellent', 'good', 'fair']:\n",
        "        return 'Average'\n",
        "    else:\n",
        "        return 'Needs Improvement'\n",
        "\n",
        "def provide_recommendations(academic_standing, learning_style):\n",
        "    recommendations = {\n",
        "        'Outstanding': 'Keep up the great work! Continue to challenge yourself with advanced courses and leadership roles in extracurricular activities.',\n",
        "        'Good': 'You are doing well! Consider seeking additional help in subjects you find challenging and stay involved in extracurricular activities.',\n",
        "        'Average': 'Focus on improving your study habits and consider tutoring for subjects where you struggle. Maintain consistent attendance.',\n",
        "        'Needs Improvement': 'Seek help from teachers and counselors to address academic and attendance issues. Develop a study plan and stick to it.',\n",
        "    }\n",
        "\n",
        "    learning_style_advice = {\n",
        "        'visual': 'Use diagrams, charts, and written notes to enhance your learning.',\n",
        "        'auditory': 'Participate in discussions and use audio recordings to reinforce learning.',\n",
        "        'kinesthetic': 'Engage in hands-on activities and practical exercises to understand concepts better.'\n",
        "    }\n",
        "\n",
        "    return f\"{recommendations[academic_standing]} Additionally, since you are a {learning_style} learner, {learning_style_advice[learning_style]}\"\n",
        "\n",
        "# Prompt the user for inputs\n",
        "grades = []\n",
        "subjects = ['Math', 'Science', 'Language', 'Social Studies']\n",
        "for subject in subjects:\n",
        "    grade = float(input(f\"Enter your grade for {subject} (0.0 - 4.0 scale): \"))\n",
        "    grades.append(grade)\n",
        "\n",
        "extracurricular_activities = input(\"Enter your level of participation in extracurricular activities (none, low, medium, high): \").lower()\n",
        "attendance_rate = input(\"Enter your attendance rate (excellent: >95%, good: 90-95%, fair: 80-89%, poor: <80%): \").lower()\n",
        "behavioral_record = input(\"Enter your behavioral record (excellent, good, needs improvement, poor): \").lower()\n",
        "learning_style = input(\"Enter your learning style (visual, auditory, kinesthetic): \").lower()\n",
        "\n",
        "# Calculate GPA\n",
        "gpa = calculate_gpa(grades)\n",
        "\n",
        "# Determine academic standing\n",
        "academic_standing = determine_academic_standing(gpa, attendance_rate, behavioral_record)\n",
        "\n",
        "# Provide recommendations\n",
        "recommendations = provide_recommendations(academic_standing, learning_style)\n",
        "\n",
        "print(f\"\\nYour GPA is: {gpa:.2f}\")\n",
        "print(f\"Your academic standing is: {academic_standing}\")\n",
        "print(f\"Recommendations: {recommendations}\")\n"
      ],
      "metadata": {
        "colab": {
          "base_uri": "https://localhost:8080/"
        },
        "id": "1MoH_BVXlY4N",
        "outputId": "6125ad47-5acc-4233-ccfc-0d2f01edcfd9"
      },
      "execution_count": 4,
      "outputs": [
        {
          "output_type": "stream",
          "name": "stdout",
          "text": [
            "Enter your grade for Math (0.0 - 4.0 scale): 3.6\n",
            "Enter your grade for Science (0.0 - 4.0 scale): 3.1\n",
            "Enter your grade for Language (0.0 - 4.0 scale): 4\n",
            "Enter your grade for Social Studies (0.0 - 4.0 scale): 3.3\n",
            "Enter your level of participation in extracurricular activities (none, low, medium, high): medium\n",
            "Enter your attendance rate (excellent: >95%, good: 90-95%, fair: 80-89%, poor: <80%): good\n",
            "Enter your behavioral record (excellent, good, needs improvement, poor): poor\n",
            "Enter your learning style (visual, auditory, kinesthetic): visual\n",
            "\n",
            "Your GPA is: 3.50\n",
            "Your academic standing is: Needs Improvement\n",
            "Recommendations: Seek help from teachers and counselors to address academic and attendance issues. Develop a study plan and stick to it. Additionally, since you are a visual learner, Use diagrams, charts, and written notes to enhance your learning.\n"
          ]
        }
      ]
    },
    {
      "cell_type": "markdown",
      "source": [
        "loops\n"
      ],
      "metadata": {
        "id": "jOpiDf3houZC"
      }
    },
    {
      "cell_type": "code",
      "source": [
        "i=1\n",
        "while i<=5:\n",
        "  print(\"Jump\")\n",
        "  i=i+1"
      ],
      "metadata": {
        "colab": {
          "base_uri": "https://localhost:8080/"
        },
        "id": "3lMe0s1gow5s",
        "outputId": "eb15d829-9e20-48b1-b208-1cfc8877b37f"
      },
      "execution_count": 7,
      "outputs": [
        {
          "output_type": "stream",
          "name": "stdout",
          "text": [
            "Jump\n",
            "Jump\n",
            "Jump\n",
            "Jump\n",
            "Jump\n"
          ]
        }
      ]
    },
    {
      "cell_type": "markdown",
      "source": [
        "script that calculates the average percentage based on the marks entered for six subjects (Math, English, Physics, Chemistry, Geography, Business):\n",
        "\n",
        "\n"
      ],
      "metadata": {
        "id": "AQ4zFXYNtfoa"
      }
    },
    {
      "cell_type": "code",
      "source": [
        "# Function to calculate average percentage and determine result\n",
        "def calculate_average_and_result(marks):\n",
        "    total_marks = sum(marks)\n",
        "    average_percentage = total_marks / len(marks)\n",
        "\n",
        "    if average_percentage < 50:\n",
        "        result = \"Fail\"\n",
        "    elif 50 <= average_percentage < 60:\n",
        "        result = \"Pass\"\n",
        "    elif 60 <= average_percentage < 70:\n",
        "        result = \"Credit\"\n",
        "    else:\n",
        "        result = \"Distinction\"\n",
        "\n",
        "    return average_percentage, result\n",
        "\n",
        "# List of subjects\n",
        "subjects = [\"Maths\", \"English\", \"Physics\", \"Chemistry\", \"Business\"]\n",
        "\n",
        "# List to store marks\n",
        "marks = []\n",
        "\n",
        "# Loop to get marks for each subject\n",
        "for subject in subjects:\n",
        "    while True:\n",
        "        try:\n",
        "            mark = float(input(f\"Enter marks for {subject}: \"))\n",
        "            if 0 <= mark <= 100:\n",
        "                marks.append(mark)\n",
        "                break\n",
        "            else:\n",
        "                print(\"Please enter a valid mark between 0 and 100.\")\n",
        "        except ValueError:\n",
        "            print(\"Please enter a valid number.\")\n",
        "\n",
        "# Calculate average percentage and result\n",
        "average_percentage, result = calculate_average_and_result(marks)\n",
        "\n",
        "# Print the results\n",
        "print(f\"\\nYour average percentage is: {average_percentage:.2f}%\")\n",
        "print(f\"Your result is: {result}\")\n"
      ],
      "metadata": {
        "colab": {
          "base_uri": "https://localhost:8080/"
        },
        "id": "zuEpX8pvthk3",
        "outputId": "e1f1952c-9b9c-44e6-bb88-844b8981118d"
      },
      "execution_count": 8,
      "outputs": [
        {
          "output_type": "stream",
          "name": "stdout",
          "text": [
            "Enter marks for Maths: 40\n",
            "Enter marks for English: 60\n",
            "Enter marks for Physics: 57\n",
            "Enter marks for Chemistry: 68\n",
            "Enter marks for Business: 80\n",
            "\n",
            "Your average percentage is: 61.00%\n",
            "Your result is: Credit\n"
          ]
        }
      ]
    },
    {
      "cell_type": "markdown",
      "source": [
        "code to use use loop to confirm password three times after which user is prompted to reset password."
      ],
      "metadata": {
        "id": "21vUX_i3yU4I"
      }
    },
    {
      "cell_type": "code",
      "source": [],
      "metadata": {
        "id": "S-wRLkSE1HAM"
      },
      "execution_count": null,
      "outputs": []
    },
    {
      "cell_type": "code",
      "source": [
        "actualPass = 'admin'\n",
        "i = 1\n",
        "\n",
        "while i < 4:\n",
        "    password = input(\"Enter the password: \")\n",
        "    if password == actualPass:\n",
        "        print(\"Login Successful\")\n",
        "        break\n",
        "    else:\n",
        "        print(\"Retry\")\n",
        "    i = i + 1\n",
        "\n",
        "if i == 4:\n",
        "    change_password = input(\"You have exhausted all retries. Would you like to change the password? (yes/no): \").lower()\n",
        "    if change_password == 'yes':\n",
        "        new_password = input(\"Enter the new password: \")\n",
        "        confirm_password = input(\"Confirm the new password: \")\n",
        "        if new_password == confirm_password:\n",
        "            actualPass = new_password\n",
        "            print(\"Password changed successfully.\")\n",
        "        else:\n",
        "            print(\"Passwords do not match. Password change failed.\")\n",
        "    else:\n",
        "        print(\"Password change not initiated.\")\n"
      ],
      "metadata": {
        "colab": {
          "base_uri": "https://localhost:8080/"
        },
        "id": "f6epEw6yyfqH",
        "outputId": "26e34956-73cc-4932-9009-791b315037db"
      },
      "execution_count": 10,
      "outputs": [
        {
          "output_type": "stream",
          "name": "stdout",
          "text": [
            "Enter the password: sdfdsf\n",
            "Retry\n",
            "Enter the password: sdfds\n",
            "Retry\n",
            "Enter the password: sdfsd\n",
            "Retry\n",
            "You have exhausted all retries. Would you like to change the password? (yes/no): yes\n",
            "Enter the new password: admin\n",
            "Confirm the new password: admin\n",
            "Password changed successfully.\n"
          ]
        }
      ]
    },
    {
      "cell_type": "markdown",
      "source": [],
      "metadata": {
        "id": "GUfcJCcn3WEF"
      }
    },
    {
      "cell_type": "markdown",
      "source": [
        "Countdown Timer\n",
        "Create a program that simulates a countdown timer.\n",
        "Start with a variable seconds  set to 10.\n",
        "Use a while loop to count down from 10 to 1, printing each number.\n",
        "After the loop ends, print \"Time's up!\".\n",
        "\n"
      ],
      "metadata": {
        "id": "X6kcr3O23Wsx"
      }
    },
    {
      "cell_type": "code",
      "source": [
        "import time\n",
        "\n",
        "# Set the initial countdown time in seconds\n",
        "seconds = 10\n",
        "\n",
        "# Start the countdown\n",
        "while seconds > 0:\n",
        "    print(seconds)\n",
        "    time.sleep(1)  # Wait for 1 second\n",
        "    seconds -= 1\n",
        "\n",
        "# Print the final message\n",
        "print(\"Time's up!\")\n"
      ],
      "metadata": {
        "colab": {
          "base_uri": "https://localhost:8080/"
        },
        "id": "22PAYGfR37Cl",
        "outputId": "ed2effea-1913-4a14-d936-0c5b7b0d69d1"
      },
      "execution_count": 11,
      "outputs": [
        {
          "output_type": "stream",
          "name": "stdout",
          "text": [
            "10\n",
            "9\n",
            "8\n",
            "7\n",
            "6\n",
            "5\n",
            "4\n",
            "3\n",
            "2\n",
            "1\n",
            "Time's up!\n"
          ]
        }
      ]
    },
    {
      "cell_type": "markdown",
      "source": [
        "Simple Interest Calculator\n",
        "Develop a program that calculates simple interest over a period of years.\n",
        "Set initial variables: principal = 1000, rate = 0.05 (5%), years = 5.\n",
        "Use a while loop to calculate and print the balance for each year.\n",
        "For each year, calculate the interest and add it to the principal."
      ],
      "metadata": {
        "id": "UFXNr3c94Jn7"
      }
    },
    {
      "cell_type": "code",
      "source": [
        "# Set initial variables\n",
        "principal = 1000\n",
        "rate = 0.05  # 5% interest rate\n",
        "years = 5\n",
        "\n",
        "# Initialize a variable to track the current year\n",
        "current_year = 1\n",
        "\n",
        "# Calculate and print the balance for each year\n",
        "while current_year <= years:\n",
        "    # Calculate interest for the current year\n",
        "    interest = principal * rate\n",
        "    # Add the interest to the principal\n",
        "    principal += interest\n",
        "    # Print the balance for the current year\n",
        "    print(f\"Year {current_year}: Balance = ${principal:.2f}\")\n",
        "    # Move to the next year\n",
        "    current_year += 1\n"
      ],
      "metadata": {
        "colab": {
          "base_uri": "https://localhost:8080/"
        },
        "id": "5XlENOip4Xl_",
        "outputId": "cafc88a2-561f-490c-fd93-134494c9d0af"
      },
      "execution_count": 12,
      "outputs": [
        {
          "output_type": "stream",
          "name": "stdout",
          "text": [
            "Year 1: Balance = $1050.00\n",
            "Year 2: Balance = $1102.50\n",
            "Year 3: Balance = $1157.62\n",
            "Year 4: Balance = $1215.51\n",
            "Year 5: Balance = $1276.28\n"
          ]
        }
      ]
    },
    {
      "cell_type": "code",
      "source": [
        "# Set initial variables\n",
        "principal = 1000\n",
        "rate = 0.05  # 5% interest rate\n",
        "\n",
        "# Prompt the user for the number of years\n",
        "years = int(input(\"Enter the number of years: \"))\n",
        "\n",
        "# Initialize a variable to track the current year\n",
        "current_year = 1\n",
        "\n",
        "# Calculate and print the balance for each year\n",
        "while current_year <= years:\n",
        "    # Calculate interest for the current year\n",
        "    interest = principal * rate\n",
        "    # Add the interest to the principal\n",
        "    principal += interest\n",
        "    # Print the balance for the current year\n",
        "    print(f\"Year {current_year}: Balance = ${principal:.2f}\")\n",
        "    # Move to the next year\n",
        "    current_year += 1\n"
      ],
      "metadata": {
        "colab": {
          "base_uri": "https://localhost:8080/"
        },
        "id": "GiTxj9t74rBf",
        "outputId": "8e21ab8f-e0f2-43be-c1e2-210ea84cb695"
      },
      "execution_count": 13,
      "outputs": [
        {
          "output_type": "stream",
          "name": "stdout",
          "text": [
            "Enter the number of years: 3\n",
            "Year 1: Balance = $1050.00\n",
            "Year 2: Balance = $1102.50\n",
            "Year 3: Balance = $1157.62\n"
          ]
        }
      ]
    },
    {
      "cell_type": "markdown",
      "source": [
        "**list**   ordered changable and allows duplicates"
      ],
      "metadata": {
        "id": "3UoGCxUt8nda"
      }
    },
    {
      "cell_type": "code",
      "source": [
        "abc = [1,2,3,4,5]\n",
        "xyz = ['Stephen','Jacinta','Ayden']\n",
        "newlist =[1,'Stephen', 4.5]\n",
        "\n"
      ],
      "metadata": {
        "id": "iVraXRIf8pZp"
      },
      "execution_count": 14,
      "outputs": []
    },
    {
      "cell_type": "code",
      "source": [
        "print(abc)\n",
        "print(type(abc))\n"
      ],
      "metadata": {
        "colab": {
          "base_uri": "https://localhost:8080/"
        },
        "id": "RRcIU2-_9WqF",
        "outputId": "54836b77-999b-4c82-9a2e-f333559e7544"
      },
      "execution_count": 15,
      "outputs": [
        {
          "output_type": "stream",
          "name": "stdout",
          "text": [
            "[1, 2, 3, 4, 5]\n",
            "<class 'list'>\n"
          ]
        }
      ]
    },
    {
      "cell_type": "code",
      "source": [
        "print (abc[0])\n",
        "print (abc[3])\n",
        "\n"
      ],
      "metadata": {
        "colab": {
          "base_uri": "https://localhost:8080/"
        },
        "id": "vYZ_6Orw9gXV",
        "outputId": "fbdce778-8b49-4755-ea8d-a57cf4aa7220"
      },
      "execution_count": 16,
      "outputs": [
        {
          "output_type": "stream",
          "name": "stdout",
          "text": [
            "1\n",
            "4\n"
          ]
        }
      ]
    },
    {
      "cell_type": "code",
      "source": [
        "xyz[1] = 'Clement'\n",
        "print(xyz[1])"
      ],
      "metadata": {
        "colab": {
          "base_uri": "https://localhost:8080/"
        },
        "id": "c3AOBWmA-xoM",
        "outputId": "3f14f079-91b9-439f-f198-b8a553d7ee1f"
      },
      "execution_count": 17,
      "outputs": [
        {
          "output_type": "stream",
          "name": "stdout",
          "text": [
            "Clement\n"
          ]
        }
      ]
    },
    {
      "cell_type": "code",
      "source": [
        "abc =[1,2,3,2,1,6,5,7]\n",
        "print(len(abc))"
      ],
      "metadata": {
        "colab": {
          "base_uri": "https://localhost:8080/"
        },
        "id": "p-lTQznV_62o",
        "outputId": "592b524f-db7f-49e0-c0a5-2231b1b19ea1"
      },
      "execution_count": 18,
      "outputs": [
        {
          "output_type": "stream",
          "name": "stdout",
          "text": [
            "8\n"
          ]
        }
      ]
    },
    {
      "cell_type": "code",
      "source": [
        "print (abc[-4])  #index in python starts from zero"
      ],
      "metadata": {
        "colab": {
          "base_uri": "https://localhost:8080/"
        },
        "id": "Iwq_x16kAeQc",
        "outputId": "ac43bedd-f9e8-45bb-b925-53366b18eb25"
      },
      "execution_count": 19,
      "outputs": [
        {
          "output_type": "stream",
          "name": "stdout",
          "text": [
            "1\n"
          ]
        }
      ]
    },
    {
      "cell_type": "code",
      "source": [
        "print(abc[1:4])   # fisrt index and last index excluded"
      ],
      "metadata": {
        "colab": {
          "base_uri": "https://localhost:8080/"
        },
        "id": "pY2VKr7SAxkG",
        "outputId": "56bbe4d2-248f-4d59-e33d-3e2b9afbbbe8"
      },
      "execution_count": 20,
      "outputs": [
        {
          "output_type": "stream",
          "name": "stdout",
          "text": [
            "[2, 3, 2]\n"
          ]
        }
      ]
    },
    {
      "cell_type": "code",
      "source": [
        "abc.append(30)\n",
        "print(abc)"
      ],
      "metadata": {
        "colab": {
          "base_uri": "https://localhost:8080/"
        },
        "id": "i5EOE012CR2L",
        "outputId": "f6900e36-4bc9-4327-c489-04a1512d7a53"
      },
      "execution_count": 21,
      "outputs": [
        {
          "output_type": "stream",
          "name": "stdout",
          "text": [
            "[1, 2, 3, 2, 1, 6, 5, 7, 30]\n"
          ]
        }
      ]
    },
    {
      "cell_type": "code",
      "source": [
        "print(abc)\n",
        "print(xyz)\n",
        "abc.extend(xyz)\n",
        "print(abc)"
      ],
      "metadata": {
        "colab": {
          "base_uri": "https://localhost:8080/"
        },
        "id": "pDbgOMIxDgdM",
        "outputId": "218cdfe2-1d26-44c9-9ccf-174b24ef981c"
      },
      "execution_count": 23,
      "outputs": [
        {
          "output_type": "stream",
          "name": "stdout",
          "text": [
            "[1, 2, 3, 2, 1, 6, 5, 7, 30, 'Stephen', 'Clement', 'Ayden']\n",
            "['Stephen', 'Clement', 'Ayden']\n",
            "[1, 2, 3, 2, 1, 6, 5, 7, 30, 'Stephen', 'Clement', 'Ayden', 'Stephen', 'Clement', 'Ayden']\n"
          ]
        }
      ]
    },
    {
      "cell_type": "code",
      "source": [
        "abc.remove(5)  # remove based on item\n",
        "print (abc)"
      ],
      "metadata": {
        "colab": {
          "base_uri": "https://localhost:8080/"
        },
        "id": "IBoCI9yDDzxN",
        "outputId": "57906c47-305b-4724-8266-07e70571cef9"
      },
      "execution_count": 24,
      "outputs": [
        {
          "output_type": "stream",
          "name": "stdout",
          "text": [
            "[1, 2, 3, 2, 1, 6, 7, 30, 'Stephen', 'Clement', 'Ayden', 'Stephen', 'Clement', 'Ayden']\n"
          ]
        }
      ]
    },
    {
      "cell_type": "code",
      "source": [
        "abc.pop(7)  # remove based on index\n",
        "print(abc)"
      ],
      "metadata": {
        "colab": {
          "base_uri": "https://localhost:8080/"
        },
        "id": "sVdstdvmEgFX",
        "outputId": "58db85a3-bc12-40ab-e2e4-abd34c4b9ab6"
      },
      "execution_count": 26,
      "outputs": [
        {
          "output_type": "stream",
          "name": "stdout",
          "text": [
            "[1, 2, 3, 2, 1, 6, 7, 'Clement', 'Ayden', 'Stephen', 'Clement', 'Ayden']\n"
          ]
        }
      ]
    },
    {
      "cell_type": "code",
      "source": [
        "del abc[3]\n",
        "print(abc)"
      ],
      "metadata": {
        "colab": {
          "base_uri": "https://localhost:8080/"
        },
        "id": "6NiOUOoCE5_q",
        "outputId": "c21d9877-7554-4311-c875-de6161e8814d"
      },
      "execution_count": 27,
      "outputs": [
        {
          "output_type": "stream",
          "name": "stdout",
          "text": [
            "[1, 2, 3, 1, 6, 7, 'Clement', 'Ayden', 'Stephen', 'Clement', 'Ayden']\n"
          ]
        }
      ]
    },
    {
      "cell_type": "code",
      "source": [
        "for i in abc:   #iterate\n",
        "  print(i)"
      ],
      "metadata": {
        "colab": {
          "base_uri": "https://localhost:8080/"
        },
        "id": "Uo8OGR5vFtiv",
        "outputId": "40051fde-4b83-4974-fdc6-aacaafeb7ef9"
      },
      "execution_count": 28,
      "outputs": [
        {
          "output_type": "stream",
          "name": "stdout",
          "text": [
            "1\n",
            "2\n",
            "3\n",
            "1\n",
            "6\n",
            "7\n",
            "Clement\n",
            "Ayden\n",
            "Stephen\n",
            "Clement\n",
            "Ayden\n"
          ]
        }
      ]
    },
    {
      "cell_type": "code",
      "source": [
        "abc.clear()\n",
        "print(abc)\n",
        "print(len(abc))"
      ],
      "metadata": {
        "colab": {
          "base_uri": "https://localhost:8080/"
        },
        "id": "8zRMmXrwIx0b",
        "outputId": "d4282b60-00a2-40bb-81f3-996642ae4fe4"
      },
      "execution_count": 29,
      "outputs": [
        {
          "output_type": "stream",
          "name": "stdout",
          "text": [
            "[]\n",
            "0\n"
          ]
        }
      ]
    },
    {
      "cell_type": "markdown",
      "source": [
        "**Tuple**  ordered, not changeable, uses curved brackets, use square brackets to access"
      ],
      "metadata": {
        "id": "F2waU_fBLcZb"
      }
    },
    {
      "cell_type": "code",
      "source": [
        "customer = ('Stephen','Waigi', 'Data and Cloud')\n",
        "print(customer)\n",
        "print(type(customer))\n",
        "print(len(customer))\n",
        "print(customer[2])"
      ],
      "metadata": {
        "colab": {
          "base_uri": "https://localhost:8080/"
        },
        "id": "1R_XT-SuMKpL",
        "outputId": "c87daff2-370b-40ee-f696-8a41271ba7b7"
      },
      "execution_count": 32,
      "outputs": [
        {
          "output_type": "stream",
          "name": "stdout",
          "text": [
            "('Stephen', 'Waigi', 'Data and Cloud')\n",
            "<class 'tuple'>\n",
            "3\n",
            "Data and Cloud\n"
          ]
        }
      ]
    },
    {
      "cell_type": "code",
      "source": [
        "customerList = list(customer)\n",
        "customerList.append('Data engineering')\n",
        "customer = tuple(customerList)\n",
        "print(customer)\n"
      ],
      "metadata": {
        "id": "vrlaLDuGOJxx",
        "outputId": "027bb775-ecae-4622-8892-6a94f0c94608",
        "colab": {
          "base_uri": "https://localhost:8080/"
        }
      },
      "execution_count": 35,
      "outputs": [
        {
          "output_type": "stream",
          "name": "stdout",
          "text": [
            "('Stephen', 'Waigi', 'Data and Cloud', 'Data engineering')\n"
          ]
        }
      ]
    },
    {
      "cell_type": "markdown",
      "source": [
        "**set** uses curly brackets, can't allow duplicate, unordered, addition and delition allowed but update not allowed"
      ],
      "metadata": {
        "id": "wUCN9jiCQ4N-"
      }
    },
    {
      "cell_type": "code",
      "source": [
        "countries = {'Rwanda','Rwanda','Tanzania','Kenya'}\n",
        "print(countries)\n",
        "print(type(countries))\n",
        "print(len(countries))"
      ],
      "metadata": {
        "id": "LvrDVKgARtxl",
        "outputId": "bf606e85-68e4-4945-97b8-61901ee964e5",
        "colab": {
          "base_uri": "https://localhost:8080/"
        }
      },
      "execution_count": 39,
      "outputs": [
        {
          "output_type": "stream",
          "name": "stdout",
          "text": [
            "{'Rwanda', 'Kenya', 'Tanzania'}\n",
            "<class 'set'>\n",
            "3\n"
          ]
        }
      ]
    },
    {
      "cell_type": "code",
      "source": [
        "countries.remove('Rwanda')\n",
        "print(countries)"
      ],
      "metadata": {
        "id": "GovuigxjSgar",
        "outputId": "056abc27-fc39-4659-ab7e-bd3840c14069",
        "colab": {
          "base_uri": "https://localhost:8080/"
        }
      },
      "execution_count": 41,
      "outputs": [
        {
          "output_type": "stream",
          "name": "stdout",
          "text": [
            "{'Kenya', 'Tanzania'}\n"
          ]
        }
      ]
    },
    {
      "cell_type": "markdown",
      "source": [
        "**Dictionary**  does not allow duplicate and uses key Value Pair and is ordered and is editable"
      ],
      "metadata": {
        "id": "n21SA3xMUAJf"
      }
    },
    {
      "cell_type": "code",
      "source": [
        "employee ={\"Name\": \"Stephen\", \"Age\":40, \"City\": \"Nairobi\", \"Country\": \"Kenya\"}\n",
        "print(employee)\n",
        "print(type(employee))\n",
        "print(len(employee))"
      ],
      "metadata": {
        "id": "nS42mJLkUO6F",
        "outputId": "f5a22dc0-8e27-4527-c94d-0ae54a4f8b92",
        "colab": {
          "base_uri": "https://localhost:8080/"
        }
      },
      "execution_count": 43,
      "outputs": [
        {
          "output_type": "stream",
          "name": "stdout",
          "text": [
            "{'Name': 'Stephen', 'Age': 40, 'City': 'Nairobi', 'Country': 'Kenya'}\n",
            "<class 'dict'>\n",
            "4\n"
          ]
        }
      ]
    },
    {
      "cell_type": "code",
      "source": [
        "print(employee['Name'])\n",
        "print(employee['Age'])\n",
        "print(employee['City'])\n",
        "print(employee['Country'])\n",
        "print(employee.keys())\n",
        "print(employee.values())"
      ],
      "metadata": {
        "id": "dyvIWlb6V0t4",
        "outputId": "fea440a5-b9df-4d8b-d79b-81ba3a4bb478",
        "colab": {
          "base_uri": "https://localhost:8080/"
        }
      },
      "execution_count": 46,
      "outputs": [
        {
          "output_type": "stream",
          "name": "stdout",
          "text": [
            "Stephen\n",
            "40\n",
            "Nairobi\n",
            "Kenya\n",
            "dict_keys(['Name', 'Age', 'City', 'Country'])\n",
            "dict_values(['Stephen', 40, 'Nairobi', 'Kenya'])\n"
          ]
        }
      ]
    },
    {
      "cell_type": "code",
      "source": [
        "print(employee.keys())\n",
        "keys = employee.keys()\n",
        "employee[\"salary\"] = 100000\n",
        "\n",
        "for i in keys:\n",
        "  print(i)"
      ],
      "metadata": {
        "id": "9STjtw8yXNR4",
        "outputId": "82ad7c91-32c3-49b1-bb37-2dec6fa12f9e",
        "colab": {
          "base_uri": "https://localhost:8080/"
        }
      },
      "execution_count": 48,
      "outputs": [
        {
          "output_type": "stream",
          "name": "stdout",
          "text": [
            "dict_keys(['Name', 'Age', 'City', 'Country'])\n",
            "Name\n",
            "Age\n",
            "City\n",
            "Country\n",
            "salary\n"
          ]
        }
      ]
    },
    {
      "cell_type": "code",
      "source": [],
      "metadata": {
        "id": "Dm-1v3ygXOWT"
      },
      "execution_count": null,
      "outputs": []
    }
  ]
}